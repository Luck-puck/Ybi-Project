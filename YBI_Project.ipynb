{
  "nbformat": 4,
  "nbformat_minor": 0,
  "metadata": {
    "colab": {
      "provenance": []
    },
    "kernelspec": {
      "name": "python3",
      "display_name": "Python 3"
    },
    "language_info": {
      "name": "python"
    }
  },
  "cells": [
    {
      "cell_type": "code",
      "execution_count": null,
      "metadata": {
        "id": "MFvIkCnRT7rT"
      },
      "outputs": [],
      "source": []
    },
    {
      "cell_type": "code",
      "source": [
        "import pandas as pd\n",
        "from datetime import datetime\n",
        "import uuid\n",
        "\n",
        "carpool_schedules = {}\n",
        "\n",
        "carpool_ids = set()\n",
        "\n",
        "def validate_date(date_str):\n",
        "    \"\"\"Validate the date format as YYYY-MM-DD.\"\"\"\n",
        "    try:\n",
        "        datetime.strptime(date_str, '%Y-%m-%d')\n",
        "        return True\n",
        "    except ValueError:\n",
        "        return False\n",
        "\n",
        "def add_carpool():\n",
        "    \"\"\"Add a new carpool schedule.\"\"\"\n",
        "    date = input(\"Enter the date (YYYY-MM-DD): \")\n",
        "    if not validate_date(date):\n",
        "        print(\"Invalid date format. Please enter the date in YYYY-MM-DD format.\")\n",
        "        return\n",
        "    driver = input(\"Enter the driver's name: \")\n",
        "    passengers = input(\"Enter passenger names separated by commas: \").split(',')\n",
        "    passengers = [p.strip() for p in passengers if p.strip()]\n",
        "    carpool_id = str(uuid.uuid4())\n",
        "    carpool_schedules[carpool_id] = {\n",
        "        'Date': date,\n",
        "        'Driver': driver,\n",
        "        'Passengers': passengers\n",
        "    }\n",
        "    carpool_ids.add(carpool_id)\n",
        "    print(f\"Carpool added with ID: {carpool_id}\")\n",
        "\n",
        "def view_carpools():\n",
        "    \"\"\"View all carpool schedules.\"\"\"\n",
        "    if not carpool_schedules:\n",
        "        print(\"No carpool schedules available.\")\n",
        "        return\n",
        "    data = []\n",
        "    for cid, details in carpool_schedules.items():\n",
        "        data.append({\n",
        "            'Carpool ID': cid,\n",
        "            'Date': details['Date'],\n",
        "            'Driver': details['Driver'],\n",
        "            'Passengers': ', '.join(details['Passengers'])\n",
        "        })\n",
        "    df = pd.DataFrame(data)\n",
        "    print(\"\\nCarpool Schedules:\")\n",
        "    print(df)\n",
        "    # Export to CSV\n",
        "    df.to_csv('carpool_schedules.csv', index=False)\n",
        "    print(\"Carpool schedules exported to 'carpool_schedules.csv'.\")\n",
        "\n",
        "def main():\n",
        "    \"\"\"Main function to run the carpool coordinator.\"\"\"\n",
        "    while True:\n",
        "        print(\"\\nCarpool Schedule Coordinator\")\n",
        "        print(\"1. Add Carpool\")\n",
        "        print(\"2. View Carpools\")\n",
        "        print(\"3. Exit\")\n",
        "        choice = input(\"Enter your choice (1-3): \")\n",
        "        if choice == '1':\n",
        "            add_carpool()\n",
        "        elif choice == '2':\n",
        "            view_carpools()\n",
        "        elif choice == '3':\n",
        "            print(\"Exiting the program.\")\n",
        "            break\n",
        "        else:\n",
        "            print(\"Invalid choice. Please enter a number between 1 and 3.\")\n",
        "\n",
        "if __name__ == \"__main__\":\n",
        "    main()"
      ],
      "metadata": {
        "id": "ZL0anbyzT8jR"
      },
      "execution_count": null,
      "outputs": []
    }
  ]
}